{
 "cells": [
  {
   "cell_type": "markdown",
   "metadata": {},
   "source": [
    "# Extract Noise Embedding"
   ]
  },
  {
   "cell_type": "markdown",
   "metadata": {},
   "source": [
    "## Get the Longest Common Subsequence"
   ]
  },
  {
   "cell_type": "code",
   "execution_count": 1,
   "metadata": {},
   "outputs": [],
   "source": [
    "def LCS(seq1, seq2):\n",
    "    \"\"\"\n",
    "    Initialise a DP array of len(seq2)+1 columns and len(seq1)+1 rows\n",
    "    the extra column and row is to denote the empty sequence as a base case\n",
    "    \"\"\"\n",
    "    dp = [[0 for j in range(len(seq2)+1)] for i in range(len(seq1)+1)]\n",
    "\n",
    "    # Starting from the bottom right most cell and moving from right to left, start the bottom up approach\n",
    "    for i in range(len(seq1)-1,-1,-1):\n",
    "        for j in range(len(seq2)-1,-1,-1):\n",
    "            # If the elements of seq1 and seq2 match, store a 1 + value at the diagonal cell\n",
    "            # Store 1 because the elements match\n",
    "            # Get value from diagonal cell because both elements match so our subproblem moves (i+1,j+1)\n",
    "            if seq1[i]==seq2[j]:\n",
    "                dp[i][j] = 1 + dp[i+1][j+1]\n",
    "            # If the elements of seq1 and seq2 do not match, get the value from its right or bottom cell, taking the max\n",
    "            # We do this to get the max longest common sub sequence of our sub problems after moving (i+1,j) or (i,j+1)\n",
    "            else:\n",
    "                dp[i][j] = max(dp[i][j+1], dp[i+1][j])\n",
    "    # The very first element stores the LCS for the 2 full sequences, building up its value in the bottom up approach\n",
    "    return dp[0][0]"
   ]
  },
  {
   "cell_type": "code",
   "execution_count": 2,
   "metadata": {},
   "outputs": [
    {
     "data": {
      "text/plain": [
       "3"
      ]
     },
     "execution_count": 2,
     "metadata": {},
     "output_type": "execute_result"
    }
   ],
   "source": [
    "LCS('abcde','ace')"
   ]
  },
  {
   "cell_type": "code",
   "execution_count": 3,
   "metadata": {},
   "outputs": [],
   "source": [
    "def LCS_return_seq(seq1, seq2):\n",
    "    \"\"\"\n",
    "    Initialise a DP array of len(seq2)+1 columns and len(seq1)+1 rows\n",
    "    the extra column and row is to denote the empty sequence as a base case\n",
    "    \"\"\"\n",
    "    dp = [[0 for j in range(len(seq2)+1)] for i in range(len(seq1)+1)]\n",
    "    # Fill up the DP array where each cell contains the LCS of the subproblems\n",
    "    # Starting from the bottom right most cell and moving from right to left, start the bottom up approach\n",
    "    for i in range(len(seq1)-1,-1,-1):\n",
    "        for j in range(len(seq2)-1,-1,-1):\n",
    "            # If the elements of seq1 and seq2 match, store a 1 + value at the diagonal cell\n",
    "            # Store 1 because the elements match\n",
    "            # Get value from diagonal cell because both elements match so our subproblem moves (i+1,j+1)\n",
    "            if seq1[i]==seq2[j]:\n",
    "                dp[i][j] = 1 + dp[i+1][j+1]\n",
    "            # If the elements of seq1 and seq2 do not match, get the value from its right or bottom cell, taking the max\n",
    "            # We do this to get the max longest common sub sequence of our sub problems after moving (i+1,j) or (i,j+1)\n",
    "            else:\n",
    "                dp[i][j] = max(dp[i][j+1], dp[i+1][j])\n",
    "    \n",
    "    # Get the actual subsequence\n",
    "    # Re-initialise the pointers\n",
    "    i = 0\n",
    "    j = 0\n",
    "    lcs = []\n",
    "\n",
    "    while i < len(seq1) and j < len(seq2):\n",
    "        # If the characters match at those positions, add the character\n",
    "        if seq1[i]==seq2[j]:\n",
    "            lcs.append(seq1[i])\n",
    "            # Move diagonally as our subproblem now becomes i+1,j+1\n",
    "            i+=1\n",
    "            j+=1\n",
    "        # If the characters don't match at that cell, we try going to the cell\n",
    "        # with the greater value (either the right or down cell which are our subproblems)\n",
    "        # We go to the cell with the greater value because a match was found on or near that cell\n",
    "        elif dp[i+1][j]>=dp[i][j+1]:\n",
    "            i+=1\n",
    "        else:\n",
    "            j+=1\n",
    "\n",
    "    return lcs"
   ]
  },
  {
   "cell_type": "code",
   "execution_count": 4,
   "metadata": {},
   "outputs": [
    {
     "data": {
      "text/plain": [
       "['a', 'c', 'e']"
      ]
     },
     "execution_count": 4,
     "metadata": {},
     "output_type": "execute_result"
    }
   ],
   "source": [
    "LCS_return_seq('abcde','ace')"
   ]
  },
  {
   "cell_type": "markdown",
   "metadata": {},
   "source": [
    "## Aligning 2 sequences"
   ]
  },
  {
   "cell_type": "code",
   "execution_count": 5,
   "metadata": {},
   "outputs": [],
   "source": [
    "def force_align(seq1,seq2):\n",
    "    # Get the lcs between the 2 sequences\n",
    "    lcs = LCS_return_seq(seq1, seq2)\n",
    "\n",
    "    seq1_aligned = []\n",
    "    seq2_aligned = []\n",
    "\n",
    "    i = 0\n",
    "    j = 0\n",
    "\n",
    "    padding = \"Pad\"\n",
    "    next_x = False\n",
    "\n",
    "    \"\"\"\n",
    "    Big Idea: \n",
    "    - align the lcs tokens\n",
    "    - for the out-of-lcs token in one sequence, align it with a padding token in the other sequence \n",
    "      to denote token level noise\n",
    "    \"\"\"\n",
    "    for x in lcs:\n",
    "        next_x = False\n",
    "        while not next_x:\n",
    "\n",
    "            # Case 1: seq1[i]==seq2[j]==x\n",
    "            # Action\n",
    "            # - append seq[i] to seq1_aligned\n",
    "            # - append seq[j] to seq2_aligned\n",
    "            # - i+1\n",
    "            # - j+1\n",
    "            if seq1[i]==x and seq2[j]==x:\n",
    "                seq1_aligned.append(seq1[i])\n",
    "                seq2_aligned.append(seq2[j])\n",
    "                i+=1\n",
    "                j+=1\n",
    "                # Move to the next x in lcs\n",
    "                next_x = True\n",
    "\n",
    "            # Case 2: seq1[i]==x but seq[2]!=x\n",
    "            # Action\n",
    "            # - append padding to seq1_aligned to match the out-of-lcs token from seq2\n",
    "            # - append out-of-lcs token seq2[j] to seq2_aligned\n",
    "            # - j+1 to simulate that the j-th token has been matched by the padding token in seq1\n",
    "            elif seq1[i]==x and seq2[j]!=x:\n",
    "                seq1_aligned.append(padding)\n",
    "                seq2_aligned.append(seq2[j])\n",
    "                j+=1\n",
    "\n",
    "            # Case 3 and 4: seq1[i]!=x but seq[2]==x as well as seq1[i]!=x but seq[2]!=x\n",
    "            # Action\n",
    "            # - append out-of-lcs token seq1[i] to seq1_aligned\n",
    "            # - append padding to seq2_aligned to match the out-of-lcs token from seq1\n",
    "            # - i+1 to simulate that the i-th token has been matched by the padding token in seq2\n",
    "            # For the case where both don't match, we use the same logic. It'll result\n",
    "            # in matched padding to out-of-lcs tokens in both seqs\n",
    "            else:\n",
    "                seq1_aligned.append(seq1[i])\n",
    "                seq2_aligned.append(padding)\n",
    "                i+=1\n",
    "\n",
    "    # Once all the lcs tokens have been aligned\n",
    "    # for the out-of-lcs token in one sequence, align it with a padding token in the other sequence\n",
    "    while i < len(seq1):\n",
    "        seq1_aligned.append(seq1[i])\n",
    "        seq2_aligned.append(padding)\n",
    "        i+=1\n",
    "\n",
    "    while j < len(seq2):\n",
    "        seq1_aligned.append(padding)\n",
    "        seq2_aligned.append(seq2[j])\n",
    "        j+=1\n",
    "\n",
    "    return seq1_aligned, seq2_aligned\n"
   ]
  },
  {
   "cell_type": "markdown",
   "metadata": {},
   "source": [
    "**Testing Case where 1 col doesn't match**"
   ]
  },
  {
   "cell_type": "code",
   "execution_count": 6,
   "metadata": {},
   "outputs": [
    {
     "name": "stdout",
     "output_type": "stream",
     "text": [
      "['a', 'j', 'Pad', 'Pad', 'c', 'd', 'e']\n",
      "['a', 'Pad', 'z', 'b', 'c', 'Pad', 'e']\n"
     ]
    }
   ],
   "source": [
    "# Case where one col doesn't match\n",
    "seq1 = ['a','j','c','d','e']\n",
    "seq2 = ['a','z','b','c','e']\n",
    "seq1_aligned, seq2_aligned = force_align(seq1,seq2)\n",
    "print(seq1_aligned)\n",
    "print(seq2_aligned)"
   ]
  },
  {
   "cell_type": "markdown",
   "metadata": {},
   "source": [
    "**Testing 2 Sequences using the given example**"
   ]
  },
  {
   "cell_type": "markdown",
   "metadata": {},
   "source": [
    "**Given example**\n",
    "\n",
    "Input:\n",
    "\n",
    "```\n",
    "1. a b c d e\n",
    "2. a b c e\n",
    "3. a b c d e\n",
    "4. a b c e\n",
    "5. a z b c e\n",
    "```\n",
    "\n",
    "Output:\n",
    "\n",
    "\n",
    "```\n",
    "1. a pad b c d   e\n",
    "2. a pad b c pad e\n",
    "3. a pad b c d   e\n",
    "4. a pad b c pad e\n",
    "5. a z   b c pad e\n",
    "```"
   ]
  },
  {
   "cell_type": "code",
   "execution_count": 7,
   "metadata": {},
   "outputs": [
    {
     "name": "stdout",
     "output_type": "stream",
     "text": [
      "['a', 'b', 'c', 'd', 'e']\n",
      "['a', 'b', 'c', 'Pad', 'e']\n"
     ]
    }
   ],
   "source": [
    "# 1 and 2\n",
    "seq1 = ['a','b','c','d','e']\n",
    "seq2 = ['a','b','c','e']\n",
    "seq1_aligned, seq2_aligned = force_align(seq1,seq2)\n",
    "print(seq1_aligned)\n",
    "print(seq2_aligned)"
   ]
  },
  {
   "cell_type": "code",
   "execution_count": 8,
   "metadata": {},
   "outputs": [
    {
     "name": "stdout",
     "output_type": "stream",
     "text": [
      "['a', 'Pad', 'b', 'Pad', 'c', 'd', 'e']\n",
      "['a', 'z', 'b', 'g', 'c', 'Pad', 'e']\n"
     ]
    }
   ],
   "source": [
    "# 1 and random case\n",
    "seq1 = ['a','b','c','d','e']\n",
    "seq2 = ['a','z','b','g','c','e']\n",
    "seq1_aligned, seq2_aligned = force_align(seq1,seq2)\n",
    "print(seq1_aligned)\n",
    "print(seq2_aligned)"
   ]
  },
  {
   "cell_type": "code",
   "execution_count": 9,
   "metadata": {},
   "outputs": [
    {
     "name": "stdout",
     "output_type": "stream",
     "text": [
      "['a', 'Pad', 'b', 'c', 'd', 'e']\n",
      "['a', 'z', 'b', 'c', 'Pad', 'e']\n"
     ]
    }
   ],
   "source": [
    "# 1 and 5\n",
    "seq1 = ['a','b','c','d','e']\n",
    "seq2 = ['a','z','b','c','e']\n",
    "seq1_aligned, seq2_aligned = force_align(seq1,seq2)\n",
    "print(seq1_aligned)\n",
    "print(seq2_aligned)"
   ]
  },
  {
   "cell_type": "code",
   "execution_count": 10,
   "metadata": {},
   "outputs": [
    {
     "name": "stdout",
     "output_type": "stream",
     "text": [
      "['a', 'Pad', 'b', 'c', 'd', 'e']\n",
      "['a', 'Pad', 'b', 'c', 'Pad', 'e']\n"
     ]
    }
   ],
   "source": [
    "# 1 (after 5) and 2\n",
    "seq1 = ['a', 'Pad', 'b', 'c', 'd', 'e']\n",
    "seq2 = ['a','b','c','e']\n",
    "seq1_aligned, seq2_aligned = force_align(seq1,seq2)\n",
    "print(seq1_aligned)\n",
    "print(seq2_aligned)"
   ]
  },
  {
   "cell_type": "markdown",
   "metadata": {},
   "source": [
    "<br/>\n",
    "<br/>\n",
    "<br/>"
   ]
  },
  {
   "cell_type": "markdown",
   "metadata": {},
   "source": [
    "## Aligning N hypotheses"
   ]
  },
  {
   "cell_type": "markdown",
   "metadata": {},
   "source": [
    "**What if we have a case where we have 2 different LCS**"
   ]
  },
  {
   "cell_type": "code",
   "execution_count": 11,
   "metadata": {},
   "outputs": [],
   "source": [
    "seq1 = ['a','q','c','r','e']\n",
    "seq2 = ['a','s','c','t','e']\n",
    "seq3 = ['a','u','g','v','p','b','e']\n",
    "seq4 = ['a','z','w','g','p','x','e']"
   ]
  },
  {
   "cell_type": "code",
   "execution_count": 12,
   "metadata": {},
   "outputs": [
    {
     "name": "stdout",
     "output_type": "stream",
     "text": [
      "['a', 'q', 'Pad', 'c', 'r', 'Pad', 'e']\n",
      "['a', 'Pad', 's', 'c', 'Pad', 't', 'e']\n"
     ]
    }
   ],
   "source": [
    "seq1_aligned, seq2_aligned = force_align(seq1,seq2)\n",
    "print(seq1_aligned)\n",
    "print(seq2_aligned)"
   ]
  },
  {
   "cell_type": "code",
   "execution_count": 13,
   "metadata": {},
   "outputs": [
    {
     "name": "stdout",
     "output_type": "stream",
     "text": [
      "['a', 'q', 'c', 'r', 'Pad', 'Pad', 'Pad', 'Pad', 'Pad', 'e']\n",
      "['a', 'Pad', 'Pad', 'Pad', 'u', 'g', 'v', 'p', 'b', 'e']\n"
     ]
    }
   ],
   "source": [
    "seq1_aligned, seq2_aligned = force_align(seq1,seq3)\n",
    "print(seq1_aligned)\n",
    "print(seq2_aligned)"
   ]
  },
  {
   "cell_type": "code",
   "execution_count": 14,
   "metadata": {},
   "outputs": [
    {
     "name": "stdout",
     "output_type": "stream",
     "text": [
      "['a', 'u', 'Pad', 'Pad', 'g', 'v', 'p', 'b', 'Pad', 'e']\n",
      "['a', 'Pad', 'z', 'w', 'g', 'Pad', 'p', 'Pad', 'x', 'e']\n"
     ]
    }
   ],
   "source": [
    "seq1_aligned, seq2_aligned = force_align(seq3,seq4)\n",
    "print(seq1_aligned)\n",
    "print(seq2_aligned)"
   ]
  },
  {
   "cell_type": "markdown",
   "metadata": {},
   "source": [
    "<br/>\n",
    "<br/>\n",
    "<br/>"
   ]
  },
  {
   "cell_type": "markdown",
   "metadata": {},
   "source": [
    "**Approach**:\n",
    "\n",
    "Step 1:\n",
    "\n",
    "Align sequence 1 and sequence 2. We get:\n",
    "```\n",
    "seq1 = ['a', 'q', 'Pad', 'c', 'r', 'Pad', 'e']\n",
    "seq2 = ['a', 'Pad', 's', 'c', 'Pad', 't', 'e']\n",
    "```\n",
    "\n",
    "Step 2:\n",
    "\n",
    "Extract the tokens from the aligned sequence. This will help align the new sequence properly to both sequence 1 and sequence 2:\n",
    "```\n",
    "seq_intersection = ['a', 'q', 's', 'c', 'r', 't', 'e']\n",
    "```\n",
    "\n",
    "Step 3:\n",
    "\n",
    "Align the new sequence to the seq_intersection of the results. \n",
    "\n",
    "This ensures that we align the new sequence with all other sequences in the results:\n",
    "```\n",
    "seq_intersection = ['a', 'q', 's', 'c', 'r', 't', 'e']\n",
    "seq3 = ['a','u','g','v','p','b','e']\n",
    "```\n",
    "\n",
    "The result is:\n",
    "```\n",
    "seq_intersection = ['a', 'q', 's', 'c', 'r', 't', 'Pad', 'Pad', 'Pad', 'Pad', 'Pad', 'e']\n",
    "seq3 = ['a', 'Pad', 'Pad', 'Pad', 'Pad', 'Pad', 'u', 'g', 'v', 'p', 'b', 'e']\n",
    "```\n",
    "\n",
    "Step 4:\n",
    "\n",
    "Re-align sequence 1 and sequence 2 by inserting 'Pad' tokens at where they were inserted in the seq_intersection\n",
    "\n",
    "This is because that is the padding required to be added to sequence 1 and sequence 2\n",
    "\n",
    "\n",
    "seq1      = ['a', 'q', 'Pad', 'c', 'r', 'Pad',                                       'e'] (index i)\n",
    "seq2      = ['a', 'Pad', 's', 'c', 'Pad', 't',                                       'e'] (index j)\n",
    "token_seq = ['a', 'q', 's', 'c', 'r', 't',        'Pad', 'Pad', 'Pad', 'Pad', 'Pad', 'e'] (index k)\n",
    "```"
   ]
  },
  {
   "cell_type": "code",
   "execution_count": 15,
   "metadata": {},
   "outputs": [],
   "source": [
    "def align_new_seq(results,new_seq):\n",
    "    # Get the intersection of the sequences i.e. only the tokens and no padding tokens\n",
    "    seq_intersection = []\n",
    "    # For each column in the aligned sequences in the results,\n",
    "    # get the non-padding token, which is the same throughout the column\n",
    "    for col in zip(*results):\n",
    "        tokens = [t for t in col if t != 'Pad']\n",
    "        seq_intersection.append(tokens[0])\n",
    "\n",
    "    print(\"Results\")\n",
    "    for res in results:\n",
    "        print(res)\n",
    "    print(\"\")\n",
    "\n",
    "\n",
    "    print(\"Sequence Intersection: \")\n",
    "    print(seq_intersection)\n",
    "    print(\"\")\n",
    "\n",
    "    print(\"New Sequence:\")\n",
    "    print(new_seq)\n",
    "    print(\"\")\n",
    "\n",
    "    # Align the new sequence with the sequence intersection of the results. This ensures that we align the new sequence\n",
    "    # with all other sequences in the results\n",
    "    seq_intersection_aligned, new_seq_aligned = force_align(seq_intersection,new_seq)\n",
    "\n",
    "    print(\"Sequence Intersection aligned: \")\n",
    "    print(seq_intersection_aligned)\n",
    "    print(\"\")\n",
    "\n",
    "    print(\"New Sequence Aligned:\")\n",
    "    print(new_seq_aligned)\n",
    "    print(\"\")\n",
    "\n",
    "    # Initialise the column pointer\n",
    "    col_pointer = 0\n",
    "    # Initialise the newly aligned results\n",
    "    aligned_results = [[] for _ in range(len(results))] \n",
    "\n",
    "    # For each token in the aligned sequence intersection\n",
    "    for k in range(len(seq_intersection_aligned)):\n",
    "        # If the token in the aligned sequence intersection was a padding token, add it to the rest of the results to align them\n",
    "        if seq_intersection_aligned[k]=='Pad':\n",
    "            for i in range(len(results)):\n",
    "                 aligned_results[i].append('Pad')\n",
    "        # If not, add the current elements from the col in the results as they are still aligned with the new sequence intersection\n",
    "        # move the column pointer as well\n",
    "        else:\n",
    "            for i in range(len(results)):\n",
    "                 aligned_results[i].append(results[i][col_pointer])\n",
    "            col_pointer+=1\n",
    "\n",
    "    \n",
    "    aligned_results.append(new_seq_aligned)\n",
    "\n",
    "    print(\"Aligned Results\")\n",
    "    for res in aligned_results:\n",
    "        print(res)\n",
    "\n",
    "    print(\"\")\n",
    "    print(\"\")\n",
    "    print(\"\")\n",
    "    print(\"\")\n",
    "    print(\"\")\n",
    "\n",
    "    return aligned_results\n",
    "\n",
    "\n",
    "def force_align_n_seqs(seqs):\n",
    "    # First force align 2 sequences\n",
    "    seq1,seq2 = force_align(seqs[0],seqs[1])\n",
    "\n",
    "    result = [seq1,seq2]\n",
    "\n",
    "    # Next, force align the sequences progressively\n",
    "    for seq in seqs[2:]:\n",
    "        result = align_new_seq(result,seq)\n",
    "        \n",
    "    return result"
   ]
  },
  {
   "cell_type": "markdown",
   "metadata": {},
   "source": [
    "**Test Case 1 using cases of an LCS between seq1 and seq2, as well as between seq3 and seq4, and common seq between all 3**\n",
    "\n",
    "```\n",
    "seq1 = ['a','q','c','r','e']\n",
    "seq2 = ['a','s','c','t','e']\n",
    "\n",
    "seq3 = ['a','u','g','v','p','b','e']\n",
    "seq4 = ['a','z','w','g','p','x','e']\n",
    "```"
   ]
  },
  {
   "cell_type": "code",
   "execution_count": 16,
   "metadata": {},
   "outputs": [
    {
     "name": "stdout",
     "output_type": "stream",
     "text": [
      "Results\n",
      "['a', 'q', 'Pad', 'c', 'r', 'Pad', 'e']\n",
      "['a', 'Pad', 's', 'c', 'Pad', 't', 'e']\n",
      "\n",
      "Sequence Intersection: \n",
      "['a', 'q', 's', 'c', 'r', 't', 'e']\n",
      "\n",
      "New Sequence:\n",
      "['a', 'u', 'g', 'v', 'p', 'b', 'e']\n",
      "\n",
      "Sequence Intersection aligned: \n",
      "['a', 'q', 's', 'c', 'r', 't', 'Pad', 'Pad', 'Pad', 'Pad', 'Pad', 'e']\n",
      "\n",
      "New Sequence Aligned:\n",
      "['a', 'Pad', 'Pad', 'Pad', 'Pad', 'Pad', 'u', 'g', 'v', 'p', 'b', 'e']\n",
      "\n",
      "Aligned Results\n",
      "['a', 'q', 'Pad', 'c', 'r', 'Pad', 'Pad', 'Pad', 'Pad', 'Pad', 'Pad', 'e']\n",
      "['a', 'Pad', 's', 'c', 'Pad', 't', 'Pad', 'Pad', 'Pad', 'Pad', 'Pad', 'e']\n",
      "['a', 'Pad', 'Pad', 'Pad', 'Pad', 'Pad', 'u', 'g', 'v', 'p', 'b', 'e']\n",
      "\n",
      "\n",
      "\n",
      "\n",
      "\n",
      "Results\n",
      "['a', 'q', 'Pad', 'c', 'r', 'Pad', 'Pad', 'Pad', 'Pad', 'Pad', 'Pad', 'e']\n",
      "['a', 'Pad', 's', 'c', 'Pad', 't', 'Pad', 'Pad', 'Pad', 'Pad', 'Pad', 'e']\n",
      "['a', 'Pad', 'Pad', 'Pad', 'Pad', 'Pad', 'u', 'g', 'v', 'p', 'b', 'e']\n",
      "\n",
      "Sequence Intersection: \n",
      "['a', 'q', 's', 'c', 'r', 't', 'u', 'g', 'v', 'p', 'b', 'e']\n",
      "\n",
      "New Sequence:\n",
      "['a', 'z', 'w', 'g', 'p', 'x', 'e']\n",
      "\n",
      "Sequence Intersection aligned: \n",
      "['a', 'q', 's', 'c', 'r', 't', 'u', 'Pad', 'Pad', 'g', 'v', 'p', 'b', 'Pad', 'e']\n",
      "\n",
      "New Sequence Aligned:\n",
      "['a', 'Pad', 'Pad', 'Pad', 'Pad', 'Pad', 'Pad', 'z', 'w', 'g', 'Pad', 'p', 'Pad', 'x', 'e']\n",
      "\n",
      "Aligned Results\n",
      "['a', 'q', 'Pad', 'c', 'r', 'Pad', 'Pad', 'Pad', 'Pad', 'Pad', 'Pad', 'Pad', 'Pad', 'Pad', 'e']\n",
      "['a', 'Pad', 's', 'c', 'Pad', 't', 'Pad', 'Pad', 'Pad', 'Pad', 'Pad', 'Pad', 'Pad', 'Pad', 'e']\n",
      "['a', 'Pad', 'Pad', 'Pad', 'Pad', 'Pad', 'u', 'Pad', 'Pad', 'g', 'v', 'p', 'b', 'Pad', 'e']\n",
      "['a', 'Pad', 'Pad', 'Pad', 'Pad', 'Pad', 'Pad', 'z', 'w', 'g', 'Pad', 'p', 'Pad', 'x', 'e']\n",
      "\n",
      "\n",
      "\n",
      "\n",
      "\n"
     ]
    }
   ],
   "source": [
    "seq1 = ['a','q','c','r','e']\n",
    "seq2 = ['a','s','c','t','e']\n",
    "seq3 = ['a','u','g','v','p','b','e']\n",
    "seq4 = ['a','z','w','g','p','x','e']\n",
    "seqs = [seq1,seq2,seq3,seq4]\n",
    "results = force_align_n_seqs(seqs)"
   ]
  },
  {
   "cell_type": "code",
   "execution_count": 17,
   "metadata": {},
   "outputs": [
    {
     "name": "stdout",
     "output_type": "stream",
     "text": [
      "Input:\n",
      "['a', 'q', 'c', 'r', 'e']\n",
      "['a', 's', 'c', 't', 'e']\n",
      "['a', 'u', 'g', 'v', 'p', 'b', 'e']\n",
      "['a', 'z', 'w', 'g', 'p', 'x', 'e']\n",
      "\n",
      "Output:\n",
      "['a', 'q', 'Pad', 'c', 'r', 'Pad', 'Pad', 'Pad', 'Pad', 'Pad', 'Pad', 'Pad', 'Pad', 'Pad', 'e']\n",
      "['a', 'Pad', 's', 'c', 'Pad', 't', 'Pad', 'Pad', 'Pad', 'Pad', 'Pad', 'Pad', 'Pad', 'Pad', 'e']\n",
      "['a', 'Pad', 'Pad', 'Pad', 'Pad', 'Pad', 'u', 'Pad', 'Pad', 'g', 'v', 'p', 'b', 'Pad', 'e']\n",
      "['a', 'Pad', 'Pad', 'Pad', 'Pad', 'Pad', 'Pad', 'z', 'w', 'g', 'Pad', 'p', 'Pad', 'x', 'e']\n"
     ]
    }
   ],
   "source": [
    "print(\"Input:\")\n",
    "for seq in seqs:\n",
    "    print(seq)\n",
    "print(\"\")\n",
    "print(\"Output:\")\n",
    "for seq in results:\n",
    "    print(seq)"
   ]
  },
  {
   "cell_type": "markdown",
   "metadata": {},
   "source": [
    "<br/>"
   ]
  },
  {
   "cell_type": "markdown",
   "metadata": {},
   "source": [
    "**Test Case 2 using the given example**"
   ]
  },
  {
   "cell_type": "markdown",
   "metadata": {},
   "source": [
    "**Given example**\n",
    "\n",
    "Input:\n",
    "\n",
    "```\n",
    "1. a b c d e\n",
    "2. a b c e\n",
    "3. a b c d e\n",
    "4. a b c e\n",
    "5. a z b c e\n",
    "```\n",
    "\n",
    "Output:\n",
    "\n",
    "\n",
    "```\n",
    "1. a pad b c d   e\n",
    "2. a pad b c pad e\n",
    "3. a pad b c d   e\n",
    "4. a pad b c pad e\n",
    "5. a z   b c pad e\n",
    "```"
   ]
  },
  {
   "cell_type": "code",
   "execution_count": 18,
   "metadata": {},
   "outputs": [
    {
     "name": "stdout",
     "output_type": "stream",
     "text": [
      "Results\n",
      "['a', 'b', 'c', 'd', 'e']\n",
      "['a', 'b', 'c', 'Pad', 'e']\n",
      "\n",
      "Sequence Intersection: \n",
      "['a', 'b', 'c', 'd', 'e']\n",
      "\n",
      "New Sequence:\n",
      "['a', 'b', 'c', 'd', 'e']\n",
      "\n",
      "Sequence Intersection aligned: \n",
      "['a', 'b', 'c', 'd', 'e']\n",
      "\n",
      "New Sequence Aligned:\n",
      "['a', 'b', 'c', 'd', 'e']\n",
      "\n",
      "Aligned Results\n",
      "['a', 'b', 'c', 'd', 'e']\n",
      "['a', 'b', 'c', 'Pad', 'e']\n",
      "['a', 'b', 'c', 'd', 'e']\n",
      "\n",
      "\n",
      "\n",
      "\n",
      "\n",
      "Results\n",
      "['a', 'b', 'c', 'd', 'e']\n",
      "['a', 'b', 'c', 'Pad', 'e']\n",
      "['a', 'b', 'c', 'd', 'e']\n",
      "\n",
      "Sequence Intersection: \n",
      "['a', 'b', 'c', 'd', 'e']\n",
      "\n",
      "New Sequence:\n",
      "['a', 'b', 'c', 'e']\n",
      "\n",
      "Sequence Intersection aligned: \n",
      "['a', 'b', 'c', 'd', 'e']\n",
      "\n",
      "New Sequence Aligned:\n",
      "['a', 'b', 'c', 'Pad', 'e']\n",
      "\n",
      "Aligned Results\n",
      "['a', 'b', 'c', 'd', 'e']\n",
      "['a', 'b', 'c', 'Pad', 'e']\n",
      "['a', 'b', 'c', 'd', 'e']\n",
      "['a', 'b', 'c', 'Pad', 'e']\n",
      "\n",
      "\n",
      "\n",
      "\n",
      "\n",
      "Results\n",
      "['a', 'b', 'c', 'd', 'e']\n",
      "['a', 'b', 'c', 'Pad', 'e']\n",
      "['a', 'b', 'c', 'd', 'e']\n",
      "['a', 'b', 'c', 'Pad', 'e']\n",
      "\n",
      "Sequence Intersection: \n",
      "['a', 'b', 'c', 'd', 'e']\n",
      "\n",
      "New Sequence:\n",
      "['a', 'z', 'b', 'c', 'e']\n",
      "\n",
      "Sequence Intersection aligned: \n",
      "['a', 'Pad', 'b', 'c', 'd', 'e']\n",
      "\n",
      "New Sequence Aligned:\n",
      "['a', 'z', 'b', 'c', 'Pad', 'e']\n",
      "\n",
      "Aligned Results\n",
      "['a', 'Pad', 'b', 'c', 'd', 'e']\n",
      "['a', 'Pad', 'b', 'c', 'Pad', 'e']\n",
      "['a', 'Pad', 'b', 'c', 'd', 'e']\n",
      "['a', 'Pad', 'b', 'c', 'Pad', 'e']\n",
      "['a', 'z', 'b', 'c', 'Pad', 'e']\n",
      "\n",
      "\n",
      "\n",
      "\n",
      "\n"
     ]
    }
   ],
   "source": [
    "seq1 = ['a','b','c','d','e']\n",
    "seq2 = ['a','b','c','e']\n",
    "seq3 = ['a','b','c','d','e']\n",
    "seq4 = ['a','b','c','e']\n",
    "seq5 = ['a','z','b','c','e']\n",
    "seqs = [seq1,seq2,seq3,seq4,seq5]\n",
    "results = force_align_n_seqs(seqs)"
   ]
  },
  {
   "cell_type": "code",
   "execution_count": 19,
   "metadata": {},
   "outputs": [
    {
     "name": "stdout",
     "output_type": "stream",
     "text": [
      "Input:\n",
      "['a', 'b', 'c', 'd', 'e']\n",
      "['a', 'b', 'c', 'e']\n",
      "['a', 'b', 'c', 'd', 'e']\n",
      "['a', 'b', 'c', 'e']\n",
      "['a', 'z', 'b', 'c', 'e']\n",
      "\n",
      "Output:\n",
      "['a', 'Pad', 'b', 'c', 'd', 'e']\n",
      "['a', 'Pad', 'b', 'c', 'Pad', 'e']\n",
      "['a', 'Pad', 'b', 'c', 'd', 'e']\n",
      "['a', 'Pad', 'b', 'c', 'Pad', 'e']\n",
      "['a', 'z', 'b', 'c', 'Pad', 'e']\n"
     ]
    }
   ],
   "source": [
    "print(\"Input:\")\n",
    "for seq in seqs:\n",
    "    print(seq)\n",
    "print(\"\")\n",
    "print(\"Output:\")\n",
    "for seq in results:\n",
    "    print(seq)"
   ]
  },
  {
   "cell_type": "markdown",
   "metadata": {},
   "source": [
    "<br/>\n",
    "<br/>\n",
    "<br/>"
   ]
  },
  {
   "cell_type": "markdown",
   "metadata": {},
   "source": [
    "<br/>\n",
    "<br/>\n",
    "<br/>"
   ]
  },
  {
   "cell_type": "markdown",
   "metadata": {},
   "source": [
    "```\n",
    "Deprecated Code\n",
    "def align_new_seq(results,new_seq):\n",
    "    # Get the intersection of the sequences i.e. only the tokens and no padding tokens\n",
    "    seq_intersection = []\n",
    "    # For each column in the aligned sequences in the results,\n",
    "    # get the non-padding token, which is the same throughout the column\n",
    "    for col in zip(*results):\n",
    "        tokens = [t for t in col if t != 'Pad']\n",
    "        seq_intersection.append(tokens[0])\n",
    "\n",
    "    print(\"Results\")\n",
    "    for res in results:\n",
    "        print(res)\n",
    "    print(\"\")\n",
    "\n",
    "\n",
    "    print(\"Sequence Intersection: \")\n",
    "    print(seq_intersection)\n",
    "    print(\"\")\n",
    "\n",
    "    print(\"New Sequence:\")\n",
    "    print(new_seq)\n",
    "    print(\"\")\n",
    "\n",
    "    # Align the new sequence with the sequence intersection. This ensures that we align the new sequence\n",
    "    # with all other sequences in the results\n",
    "    seq_intersection_aligned, new_seq_aligned = force_align(seq_intersection,new_seq)\n",
    "\n",
    "    print(\"Sequence Intersection aligned: \")\n",
    "    print(seq_intersection_aligned)\n",
    "    print(\"\")\n",
    "\n",
    "    print(\"New Sequence Aligned:\")\n",
    "    print(new_seq_aligned)\n",
    "    print(\"\")\n",
    "\n",
    "    # Initialise the column pointer\n",
    "    col_pointer = 0\n",
    "    # Initialise the newly aligned results\n",
    "    aligned_results = [[] for _ in range(len(results))] \n",
    "\n",
    "    # For each token in the aligned sequence intersection\n",
    "    for k in range(len(seq_intersection_aligned)):\n",
    "        # Check if it at least one of the tokens in the column of the result matches the current sequence intersection token\n",
    "        aligned = False\n",
    "        # For each result, check if its value in the current column matches the current sequence intersection token\n",
    "        for i in range(len(results)): \n",
    "            if results[i][col_pointer]==seq_intersection_aligned[k]:\n",
    "                # This means that there is no new padding in the modified sequence intersection at this position,\n",
    "                # as it still uses the tokens from our aligned sequence\n",
    "                aligned = True \n",
    "                break\n",
    "        # If there was an alignment with the modified sequence intersection at this position\n",
    "        if aligned:\n",
    "             # Add the current tokens in the column to the newly aligned results and \n",
    "             # advance the column pointer to compare the next column\n",
    "             for i in range(len(results)):\n",
    "                 aligned_results[i].append(results[i][col_pointer])\n",
    "             col_pointer+=1\n",
    "        # If there was no alignment with the modified sequence intersection at this position\n",
    "        # it means we have to add a padding token\n",
    "        else:\n",
    "            for i in range(len(results)):\n",
    "                 aligned_results[i].append('Pad')\n",
    "\n",
    "    \n",
    "    aligned_results.append(new_seq_aligned)\n",
    "\n",
    "    print(\"Aligned Results\")\n",
    "    for res in aligned_results:\n",
    "        print(res)\n",
    "\n",
    "    print(\"\")\n",
    "    print(\"\")\n",
    "    print(\"\")\n",
    "    print(\"\")\n",
    "    print(\"\")\n",
    "\n",
    "    return aligned_results\n",
    "\n",
    "\n",
    "def force_align_n_seqs(seqs):\n",
    "    # First force align 2 sequences\n",
    "    seq1,seq2 = force_align(seqs[0],seqs[1])\n",
    "\n",
    "    result = [seq1,seq2]\n",
    "\n",
    "    # Next, force align the sequences progressively\n",
    "    for seq in seqs[2:]:\n",
    "        result = align_new_seq(result,seq)\n",
    "        \n",
    "    return result\n",
    "```"
   ]
  },
  {
   "cell_type": "markdown",
   "metadata": {},
   "source": [
    "<br/>\n",
    "<br/>\n",
    "<br/>"
   ]
  },
  {
   "cell_type": "markdown",
   "metadata": {},
   "source": [
    "<br/>\n",
    "<br/>\n",
    "<br/>"
   ]
  }
 ],
 "metadata": {
  "kernelspec": {
   "display_name": "myenv",
   "language": "python",
   "name": "python3"
  },
  "language_info": {
   "codemirror_mode": {
    "name": "ipython",
    "version": 3
   },
   "file_extension": ".py",
   "mimetype": "text/x-python",
   "name": "python",
   "nbconvert_exporter": "python",
   "pygments_lexer": "ipython3",
   "version": "3.12.5"
  }
 },
 "nbformat": 4,
 "nbformat_minor": 2
}

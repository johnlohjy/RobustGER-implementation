{
 "cells": [
  {
   "cell_type": "markdown",
   "metadata": {},
   "source": [
    "# Extract Noise Embedding"
   ]
  },
  {
   "cell_type": "markdown",
   "metadata": {},
   "source": [
    "## Get the Longest Common Subsequence"
   ]
  },
  {
   "cell_type": "code",
   "execution_count": 1,
   "metadata": {},
   "outputs": [],
   "source": [
    "def LCS(seq1, seq2):\n",
    "    \"\"\"\n",
    "    Initialise a DP array of len(seq2)+1 columns and len(seq1)+1 rows\n",
    "    the extra column and row is to denote the empty sequence as a base case\n",
    "    \"\"\"\n",
    "    dp = [[0 for j in range(len(seq2)+1)] for i in range(len(seq1)+1)]\n",
    "\n",
    "    # Starting from the bottom right most cell and moving from right to left, start the bottom up approach\n",
    "    for i in range(len(seq1)-1,-1,-1):\n",
    "        for j in range(len(seq2)-1,-1,-1):\n",
    "            # If the elements of seq1 and seq2 match, store a 1 + value at the diagonal cell\n",
    "            # Store 1 because the elements match\n",
    "            # Get value from diagonal cell because both elements match so our subproblem moves (i+1,j+1)\n",
    "            if seq1[i]==seq2[j]:\n",
    "                dp[i][j] = 1 + dp[i+1][j+1]\n",
    "            # If the elements of seq1 and seq2 do not match, get the value from its right or bottom cell, taking the max\n",
    "            # We do this to get the max longest common sub sequence of our sub problems after moving (i+1,j) or (i,j+1)\n",
    "            else:\n",
    "                dp[i][j] = max(dp[i][j+1], dp[i+1][j])\n",
    "    # The very first element stores the LCS for the 2 full sequences, building up its value in the bottom up approach\n",
    "    return dp[0][0]"
   ]
  },
  {
   "cell_type": "code",
   "execution_count": 2,
   "metadata": {},
   "outputs": [
    {
     "data": {
      "text/plain": [
       "3"
      ]
     },
     "execution_count": 2,
     "metadata": {},
     "output_type": "execute_result"
    }
   ],
   "source": [
    "LCS('abcde','ace')"
   ]
  },
  {
   "cell_type": "code",
   "execution_count": 3,
   "metadata": {},
   "outputs": [],
   "source": [
    "def LCS_return_seq(seq1, seq2):\n",
    "    \"\"\"\n",
    "    Initialise a DP array of len(seq2)+1 columns and len(seq1)+1 rows\n",
    "    the extra column and row is to denote the empty sequence as a base case\n",
    "    \"\"\"\n",
    "    dp = [[0 for j in range(len(seq2)+1)] for i in range(len(seq1)+1)]\n",
    "    # Fill up the DP array where each cell contains the LCS of the subproblems\n",
    "    # Starting from the bottom right most cell and moving from right to left, start the bottom up approach\n",
    "    for i in range(len(seq1)-1,-1,-1):\n",
    "        for j in range(len(seq2)-1,-1,-1):\n",
    "            # If the elements of seq1 and seq2 match, store a 1 + value at the diagonal cell\n",
    "            # Store 1 because the elements match\n",
    "            # Get value from diagonal cell because both elements match so our subproblem moves (i+1,j+1)\n",
    "            if seq1[i]==seq2[j]:\n",
    "                dp[i][j] = 1 + dp[i+1][j+1]\n",
    "            # If the elements of seq1 and seq2 do not match, get the value from its right or bottom cell, taking the max\n",
    "            # We do this to get the max longest common sub sequence of our sub problems after moving (i+1,j) or (i,j+1)\n",
    "            else:\n",
    "                dp[i][j] = max(dp[i][j+1], dp[i+1][j])\n",
    "    \n",
    "    # Get the actual subsequence\n",
    "    # Re-initialise the pointers\n",
    "    i = 0\n",
    "    j = 0\n",
    "    lcs = []\n",
    "\n",
    "    while i < len(seq1) and j < len(seq2):\n",
    "        # If the characters match at those positions, add the character\n",
    "        if seq1[i]==seq2[j]:\n",
    "            lcs.append(seq1[i])\n",
    "            # Move diagonally as our subproblem now becomes i+1,j+1\n",
    "            i+=1\n",
    "            j+=1\n",
    "        # If the characters don't match at that cell, we try going to the cell\n",
    "        # with the greater value (either the right or down cell which are our subproblems)\n",
    "        # We go to the cell with the greater value because a match was found on or near that cell\n",
    "        elif dp[i+1][j]>=dp[i][j+1]:\n",
    "            i+=1\n",
    "        else:\n",
    "            j+=1\n",
    "\n",
    "    return lcs"
   ]
  },
  {
   "cell_type": "code",
   "execution_count": 4,
   "metadata": {},
   "outputs": [
    {
     "data": {
      "text/plain": [
       "['a', 'c', 'e']"
      ]
     },
     "execution_count": 4,
     "metadata": {},
     "output_type": "execute_result"
    }
   ],
   "source": [
    "LCS_return_seq('abcde','ace')"
   ]
  },
  {
   "cell_type": "markdown",
   "metadata": {},
   "source": [
    "## Pad 2 sequences"
   ]
  },
  {
   "cell_type": "code",
   "execution_count": 5,
   "metadata": {},
   "outputs": [],
   "source": [
    "def force_align(seq1,seq2):\n",
    "    # Get the lcs between the 2 sequences\n",
    "    lcs = LCS_return_seq(seq1, seq2)\n",
    "\n",
    "    seq1_aligned = []\n",
    "    seq2_aligned = []\n",
    "\n",
    "    i = 0\n",
    "    j = 0\n",
    "\n",
    "    padding = \"Pad\"\n",
    "    next_x = False\n",
    "\n",
    "    \"\"\"\n",
    "    Big Idea: \n",
    "    - align the lcs tokens\n",
    "    - for the out-of-lcs token in one sequence, align it with a padding token in the other sequence \n",
    "      to denote token level noise\n",
    "    \"\"\"\n",
    "    for x in lcs:\n",
    "        next_x = False\n",
    "        while not next_x:\n",
    "\n",
    "            # Case 1: seq1[i]==seq2[j]==x\n",
    "            # Action\n",
    "            # - append seq[i] to seq1_aligned\n",
    "            # - append seq[j] to seq2_aligned\n",
    "            # - i+1\n",
    "            # - j+1\n",
    "            if seq1[i]==x and seq2[j]==x:\n",
    "                seq1_aligned.append(seq1[i])\n",
    "                seq2_aligned.append(seq2[j])\n",
    "                i+=1\n",
    "                j+=1\n",
    "                # Move to the next x in lcs\n",
    "                next_x = True\n",
    "\n",
    "            # Case 2: seq1[i]==x but seq[2]!=x\n",
    "            # Action\n",
    "            # - append padding to seq1_aligned to match the out-of-lcs token from seq2\n",
    "            # - append out-of-lcs token seq2[j] to seq2_aligned\n",
    "            # - j+1 to simulate that the j-th token has been matched by the padding token in seq1\n",
    "            elif seq1[i]==x and seq2[j]!=x:\n",
    "                seq1_aligned.append(padding)\n",
    "                seq2_aligned.append(seq2[j])\n",
    "                j+=1\n",
    "\n",
    "            # Case 3 and 4: seq1[i]!=x but seq[2]==x as well as seq1[i]!=x but seq[2]!=x\n",
    "            # Action\n",
    "            # - append out-of-lcs token seq1[i] to seq1_aligned\n",
    "            # - append padding to seq2_aligned to match the out-of-lcs token from seq1\n",
    "            # - i+1 to simulate that the i-th token has been matched by the padding token in seq2\n",
    "            # For the case where both don't match, we use the same logic. It'll result\n",
    "            # in matched padding to out-of-lcs tokens in both seqs\n",
    "            else:\n",
    "                seq1_aligned.append(seq1[i])\n",
    "                seq2_aligned.append(padding)\n",
    "                i+=1\n",
    "\n",
    "    # Once all the lcs tokens have been aligned\n",
    "    # for the out-of-lcs token in one sequence, align it with a padding token in the other sequence\n",
    "    while i < len(seq1):\n",
    "        seq1_aligned.append(seq1[i])\n",
    "        seq2_aligned.append(padding)\n",
    "        i+=1\n",
    "\n",
    "    while j < len(seq2):\n",
    "        seq1_aligned.append(padding)\n",
    "        seq2_aligned.append(seq2[j])\n",
    "        j+=1\n",
    "\n",
    "    return seq1_aligned, seq2_aligned\n"
   ]
  },
  {
   "cell_type": "code",
   "execution_count": 6,
   "metadata": {},
   "outputs": [
    {
     "name": "stdout",
     "output_type": "stream",
     "text": [
      "['a', 'j', 'Pad', 'Pad', 'c', 'd', 'e']\n",
      "['a', 'Pad', 'z', 'b', 'c', 'Pad', 'e']\n"
     ]
    }
   ],
   "source": [
    "# Case where one col doesn't match\n",
    "seq1 = ['a','j','c','d','e']\n",
    "seq2 = ['a','z','b','c','e']\n",
    "seq1_aligned, seq2_aligned = force_align(seq1,seq2)\n",
    "print(seq1_aligned)\n",
    "print(seq2_aligned)"
   ]
  },
  {
   "cell_type": "markdown",
   "metadata": {},
   "source": [
    "**Given example**\n",
    "\n",
    "Input:\n",
    "\n",
    "```\n",
    "1. a b c d e\n",
    "2. a b c e\n",
    "3. a b c d e\n",
    "4. a b c e\n",
    "5. a z b c e\n",
    "```\n",
    "\n",
    "Output:\n",
    "\n",
    "\n",
    "```\n",
    "1. a pad b c d   e\n",
    "2. a pad b c pad e\n",
    "3. a pad b c d   e\n",
    "4. a pad b c pad e\n",
    "5. a z   b c pad e\n",
    "```"
   ]
  },
  {
   "cell_type": "code",
   "execution_count": 7,
   "metadata": {},
   "outputs": [
    {
     "name": "stdout",
     "output_type": "stream",
     "text": [
      "['a', 'b', 'c', 'd', 'e']\n",
      "['a', 'b', 'c', 'Pad', 'e']\n"
     ]
    }
   ],
   "source": [
    "# 1 and 2\n",
    "seq1 = ['a','b','c','d','e']\n",
    "seq2 = ['a','b','c','e']\n",
    "seq1_aligned, seq2_aligned = force_align(seq1,seq2)\n",
    "print(seq1_aligned)\n",
    "print(seq2_aligned)"
   ]
  },
  {
   "cell_type": "code",
   "execution_count": 8,
   "metadata": {},
   "outputs": [
    {
     "name": "stdout",
     "output_type": "stream",
     "text": [
      "['a', 'Pad', 'b', 'Pad', 'c', 'd', 'e']\n",
      "['a', 'z', 'b', 'g', 'c', 'Pad', 'e']\n"
     ]
    }
   ],
   "source": [
    "# 1 and random case\n",
    "seq1 = ['a','b','c','d','e']\n",
    "seq2 = ['a','z','b','g','c','e']\n",
    "seq1_aligned, seq2_aligned = force_align(seq1,seq2)\n",
    "print(seq1_aligned)\n",
    "print(seq2_aligned)"
   ]
  },
  {
   "cell_type": "code",
   "execution_count": 9,
   "metadata": {},
   "outputs": [
    {
     "name": "stdout",
     "output_type": "stream",
     "text": [
      "['a', 'Pad', 'b', 'c', 'd', 'e']\n",
      "['a', 'z', 'b', 'c', 'Pad', 'e']\n"
     ]
    }
   ],
   "source": [
    "# 1 and 5\n",
    "seq1 = ['a','b','c','d','e']\n",
    "seq2 = ['a','z','b','c','e']\n",
    "seq1_aligned, seq2_aligned = force_align(seq1,seq2)\n",
    "print(seq1_aligned)\n",
    "print(seq2_aligned)"
   ]
  },
  {
   "cell_type": "code",
   "execution_count": 10,
   "metadata": {},
   "outputs": [
    {
     "name": "stdout",
     "output_type": "stream",
     "text": [
      "['a', 'Pad', 'b', 'c', 'd', 'e']\n",
      "['a', 'Pad', 'b', 'c', 'Pad', 'e']\n"
     ]
    }
   ],
   "source": [
    "# 1 (after 5) and 2\n",
    "seq1 = ['a', 'Pad', 'b', 'c', 'd', 'e']\n",
    "seq2 = ['a','b','c','e']\n",
    "seq1_aligned, seq2_aligned = force_align(seq1,seq2)\n",
    "print(seq1_aligned)\n",
    "print(seq2_aligned)"
   ]
  },
  {
   "cell_type": "markdown",
   "metadata": {},
   "source": [
    "## How to align N hypotheses"
   ]
  },
  {
   "cell_type": "markdown",
   "metadata": {},
   "source": [
    "**What if we have a case where we have 2 different LCS**"
   ]
  },
  {
   "cell_type": "code",
   "execution_count": 11,
   "metadata": {},
   "outputs": [],
   "source": [
    "seq1 = ['a','q','c','r','e']\n",
    "seq2 = ['a','s','c','t','e']\n",
    "seq3 = ['a','u','g','v','p','b','e']\n",
    "seq4 = ['a','z','w','g','p','x','e']"
   ]
  },
  {
   "cell_type": "code",
   "execution_count": 12,
   "metadata": {},
   "outputs": [
    {
     "name": "stdout",
     "output_type": "stream",
     "text": [
      "['a', 'q', 'Pad', 'c', 'r', 'Pad', 'e']\n",
      "['a', 'Pad', 's', 'c', 'Pad', 't', 'e']\n"
     ]
    }
   ],
   "source": [
    "seq1_aligned, seq2_aligned = force_align(seq1,seq2)\n",
    "print(seq1_aligned)\n",
    "print(seq2_aligned)"
   ]
  },
  {
   "cell_type": "code",
   "execution_count": 13,
   "metadata": {},
   "outputs": [
    {
     "name": "stdout",
     "output_type": "stream",
     "text": [
      "['a', 'q', 'c', 'r', 'Pad', 'Pad', 'Pad', 'Pad', 'Pad', 'e']\n",
      "['a', 'Pad', 'Pad', 'Pad', 'u', 'g', 'v', 'p', 'b', 'e']\n"
     ]
    }
   ],
   "source": [
    "seq1_aligned, seq2_aligned = force_align(seq1,seq3)\n",
    "print(seq1_aligned)\n",
    "print(seq2_aligned)"
   ]
  },
  {
   "cell_type": "code",
   "execution_count": 14,
   "metadata": {},
   "outputs": [
    {
     "name": "stdout",
     "output_type": "stream",
     "text": [
      "['a', 'u', 'Pad', 'Pad', 'g', 'v', 'p', 'b', 'Pad', 'e']\n",
      "['a', 'Pad', 'z', 'w', 'g', 'Pad', 'p', 'Pad', 'x', 'e']\n"
     ]
    }
   ],
   "source": [
    "seq1_aligned, seq2_aligned = force_align(seq3,seq4)\n",
    "print(seq1_aligned)\n",
    "print(seq2_aligned)"
   ]
  },
  {
   "cell_type": "code",
   "execution_count": null,
   "metadata": {},
   "outputs": [],
   "source": []
  }
 ],
 "metadata": {
  "kernelspec": {
   "display_name": "myenv",
   "language": "python",
   "name": "python3"
  },
  "language_info": {
   "codemirror_mode": {
    "name": "ipython",
    "version": 3
   },
   "file_extension": ".py",
   "mimetype": "text/x-python",
   "name": "python",
   "nbconvert_exporter": "python",
   "pygments_lexer": "ipython3",
   "version": "3.12.4"
  }
 },
 "nbformat": 4,
 "nbformat_minor": 2
}

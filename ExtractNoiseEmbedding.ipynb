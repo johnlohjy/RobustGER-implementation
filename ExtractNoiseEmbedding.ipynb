{
 "cells": [
  {
   "cell_type": "markdown",
   "metadata": {},
   "source": [
    "# Extract Noise Embedding"
   ]
  },
  {
   "cell_type": "markdown",
   "metadata": {},
   "source": [
    "## Get the Longest Common Subsequence"
   ]
  },
  {
   "cell_type": "code",
   "execution_count": 20,
   "metadata": {},
   "outputs": [],
   "source": [
    "def LCS(seq1, seq2):\n",
    "    \"\"\"\n",
    "    Initialise a DP array of len(seq2)+1 columns and len(seq1)+1 rows\n",
    "    the extra column and row is to denote the empty sequence as a base case\n",
    "    \"\"\"\n",
    "    dp = [[0 for j in range(len(seq2)+1)] for i in range(len(seq1)+1)]\n",
    "\n",
    "    # Starting from the bottom right most cell and moving from right to left, start the bottom up approach\n",
    "    for i in range(len(seq1)-1,-1,-1):\n",
    "        for j in range(len(seq2)-1,-1,-1):\n",
    "            # If the elements of seq1 and seq2 match, store a 1 + value at the diagonal cell\n",
    "            # Store 1 because the elements match\n",
    "            # Get value from diagonal cell because both elements match so our subproblem moves (i+1,j+1)\n",
    "            if seq1[i]==seq2[j]:\n",
    "                dp[i][j] = 1 + dp[i+1][j+1]\n",
    "            # If the elements of seq1 and seq2 do not match, get the value from its right or bottom cell, taking the max\n",
    "            # We do this to get the max longest common sub sequence of our sub problems after moving (i+1,j) or (i,j+1)\n",
    "            else:\n",
    "                dp[i][j] = max(dp[i][j+1], dp[i+1][j])\n",
    "    # The very first element stores the LCS for the 2 full sequences, building up its value in the bottom up approach\n",
    "    return dp[0][0]"
   ]
  },
  {
   "cell_type": "code",
   "execution_count": 21,
   "metadata": {},
   "outputs": [
    {
     "data": {
      "text/plain": [
       "3"
      ]
     },
     "execution_count": 21,
     "metadata": {},
     "output_type": "execute_result"
    }
   ],
   "source": [
    "LCS('abcde','ace')"
   ]
  },
  {
   "cell_type": "code",
   "execution_count": 28,
   "metadata": {},
   "outputs": [],
   "source": [
    "def LCS_return_seq(seq1, seq2):\n",
    "    \"\"\"\n",
    "    Initialise a DP array of len(seq2)+1 columns and len(seq1)+1 rows\n",
    "    the extra column and row is to denote the empty sequence as a base case\n",
    "    \"\"\"\n",
    "    dp = [[0 for j in range(len(seq2)+1)] for i in range(len(seq1)+1)]\n",
    "    # Fill up the DP array where each cell contains the LCS of the subproblems\n",
    "    # Starting from the bottom right most cell and moving from right to left, start the bottom up approach\n",
    "    for i in range(len(seq1)-1,-1,-1):\n",
    "        for j in range(len(seq2)-1,-1,-1):\n",
    "            # If the elements of seq1 and seq2 match, store a 1 + value at the diagonal cell\n",
    "            # Store 1 because the elements match\n",
    "            # Get value from diagonal cell because both elements match so our subproblem moves (i+1,j+1)\n",
    "            if seq1[i]==seq2[j]:\n",
    "                dp[i][j] = 1 + dp[i+1][j+1]\n",
    "            # If the elements of seq1 and seq2 do not match, get the value from its right or bottom cell, taking the max\n",
    "            # We do this to get the max longest common sub sequence of our sub problems after moving (i+1,j) or (i,j+1)\n",
    "            else:\n",
    "                dp[i][j] = max(dp[i][j+1], dp[i+1][j])\n",
    "    \n",
    "    # Get the actual subsequence\n",
    "    # Re-initialise the pointers\n",
    "    i = 0\n",
    "    j = 0\n",
    "    lcs = []\n",
    "\n",
    "    while i < len(seq1) and j < len(seq2):\n",
    "        # If the characters match at those positions, add the character\n",
    "        if seq1[i]==seq2[j]:\n",
    "            lcs.append(seq1[i])\n",
    "            # Move diagonally as our subproblem now becomes i+1,j+1\n",
    "            i+=1\n",
    "            j+=1\n",
    "        # If the characters don't match at that cell, we try going to the cell\n",
    "        # with the greater value (either the right or down cell which are our subproblems)\n",
    "        # We go to the cell with the greater value because a match was found on or near that cell\n",
    "        elif dp[i+1][j]>=dp[i][j+1]:\n",
    "            i+=1\n",
    "        else:\n",
    "            j+=1\n",
    "\n",
    "    return lcs"
   ]
  },
  {
   "cell_type": "code",
   "execution_count": 29,
   "metadata": {},
   "outputs": [
    {
     "data": {
      "text/plain": [
       "['a', 'c', 'e']"
      ]
     },
     "execution_count": 29,
     "metadata": {},
     "output_type": "execute_result"
    }
   ],
   "source": [
    "LCS_return_seq('abcde','ace')"
   ]
  },
  {
   "cell_type": "markdown",
   "metadata": {},
   "source": [
    "## Pad 2 sequences"
   ]
  },
  {
   "cell_type": "code",
   "execution_count": 32,
   "metadata": {},
   "outputs": [],
   "source": [
    "def force_align(seq1,seq2):\n",
    "    # Get the lcs between the 2 sequences\n",
    "    lcs = LCS_return_seq(seq1, seq2)\n",
    "\n",
    "    seq1_aligned = []\n",
    "    seq2_aligned = []\n",
    "\n",
    "    i = 0\n",
    "    j = 0\n",
    "\n",
    "    padding = \"Pad\"\n",
    "    next_x = False\n",
    "\n",
    "    \"\"\"\n",
    "    Big Idea: \n",
    "    - align the lcs tokens\n",
    "    - for the out-of-lcs token in one sequence, align it with a padding token in the other sequence \n",
    "      to denote token level noise\n",
    "    \"\"\"\n",
    "    for x in lcs:\n",
    "        next_x = False\n",
    "        while not next_x:\n",
    "\n",
    "            # Case 1: seq1[i]==seq2[j]==x\n",
    "            # Action\n",
    "            # - append seq[i] to seq1_aligned\n",
    "            # - append seq[j] to seq2_aligned\n",
    "            # - i+1\n",
    "            # - j+1\n",
    "            if seq1[i]==x and seq2[j]==x:\n",
    "                seq1_aligned.append(seq1[i])\n",
    "                seq2_aligned.append(seq2[j])\n",
    "                i+=1\n",
    "                j+=1\n",
    "                # Move to the next x in lcs\n",
    "                next_x = True\n",
    "\n",
    "            # Case 2: seq1[i]==x but seq[2]!=x\n",
    "            # Action\n",
    "            # - append padding to seq1_aligned to match the out-of-lcs token from seq2\n",
    "            # - append out-of-lcs token seq2[j] to seq2_aligned\n",
    "            # - j+1 to simulate that the j-th token has been matched by the padding token in seq1\n",
    "            elif seq1[i]==x and seq2[j]!=x:\n",
    "                seq1_aligned.append(padding)\n",
    "                seq2_aligned.append(seq2[j])\n",
    "                j+=1\n",
    "\n",
    "            # Case 3 and 4: seq1[i]!=x but seq[2]==x as well as seq1[i]!=x but seq[2]!=x\n",
    "            # Action\n",
    "            # - append out-of-lcs token seq1[i] to seq1_aligned\n",
    "            # - append padding to seq2_aligned to match the out-of-lcs token from seq1\n",
    "            # - i+1 to simulate that the i-th token has been matched by the padding token in seq2\n",
    "            # For the case where both don't match, we use the same logic. It'll result\n",
    "            # in matched padding to out-of-lcs tokens in both seqs\n",
    "            else:\n",
    "                seq1_aligned.append(seq1[i])\n",
    "                seq2_aligned.append(padding)\n",
    "                i+=1\n",
    "\n",
    "    # Once all the lcs tokens have been aligned\n",
    "    # for the out-of-lcs token in one sequence, align it with a padding token in the other sequence\n",
    "    while i < len(seq1):\n",
    "        seq1_aligned.append(seq1[i])\n",
    "        seq2_aligned.append(padding)\n",
    "        i+=1\n",
    "\n",
    "    while j < len(seq2):\n",
    "        seq1_aligned.append(padding)\n",
    "        seq2_aligned.append(seq2[j])\n",
    "        j+=1\n",
    "\n",
    "    return seq1_aligned, seq2_aligned\n"
   ]
  },
  {
   "cell_type": "code",
   "execution_count": 33,
   "metadata": {},
   "outputs": [],
   "source": [
    "# Case where one col doesn't match\n",
    "seq1 = ['a','j','c','d','e']\n",
    "seq2 = ['a','z','b','c','e']\n",
    "seq1_aligned, seq2_aligned = force_align(seq1,seq2)\n",
    "print(seq1_aligned)\n",
    "print(seq2_aligned)"
   ]
  },
  {
   "cell_type": "markdown",
   "metadata": {},
   "source": [
    "**Given example**\n",
    "\n",
    "Input:\n",
    "\n",
    "```\n",
    "1. a b c d e\n",
    "2. a b c e\n",
    "3. a b c d e\n",
    "4. a b c e\n",
    "5. a z b c e\n",
    "```\n",
    "\n",
    "Output:\n",
    "\n",
    "\n",
    "```\n",
    "1. a pad b c d   e\n",
    "2. a pad b c pad e\n",
    "3. a pad b c d   e\n",
    "4. a pad b c pad e\n",
    "5. a z   b c pad e\n",
    "```"
   ]
  },
  {
   "cell_type": "code",
   "execution_count": 38,
   "metadata": {},
   "outputs": [
    {
     "name": "stdout",
     "output_type": "stream",
     "text": [
      "['a', 'b', 'c', 'd', 'e']\n",
      "['a', 'b', 'c', 'Pad', 'e']\n"
     ]
    }
   ],
   "source": [
    "# 1 and 2\n",
    "seq1 = ['a','b','c','d','e']\n",
    "seq2 = ['a','b','c','e']\n",
    "seq1_aligned, seq2_aligned = force_align(seq1,seq2)\n",
    "print(seq1_aligned)\n",
    "print(seq2_aligned)"
   ]
  },
  {
   "cell_type": "code",
   "execution_count": 40,
   "metadata": {},
   "outputs": [
    {
     "name": "stdout",
     "output_type": "stream",
     "text": [
      "['a', 'Pad', 'b', 'Pad', 'c', 'd', 'e']\n",
      "['a', 'z', 'b', 'g', 'c', 'Pad', 'e']\n"
     ]
    }
   ],
   "source": [
    "# 1 and random case\n",
    "seq1 = ['a','b','c','d','e']\n",
    "seq2 = ['a','z','b','g','c','e']\n",
    "seq1_aligned, seq2_aligned = force_align(seq1,seq2)\n",
    "print(seq1_aligned)\n",
    "print(seq2_aligned)"
   ]
  },
  {
   "cell_type": "code",
   "execution_count": 43,
   "metadata": {},
   "outputs": [
    {
     "name": "stdout",
     "output_type": "stream",
     "text": [
      "['a', 'Pad', 'b', 'c', 'd', 'e']\n",
      "['a', 'z', 'b', 'c', 'Pad', 'e']\n"
     ]
    }
   ],
   "source": [
    "# 1 and 5\n",
    "seq1 = ['a','b','c','d','e']\n",
    "seq2 = ['a','z','b','c','e']\n",
    "seq1_aligned, seq2_aligned = force_align(seq1,seq2)\n",
    "print(seq1_aligned)\n",
    "print(seq2_aligned)"
   ]
  },
  {
   "cell_type": "code",
   "execution_count": 44,
   "metadata": {},
   "outputs": [
    {
     "name": "stdout",
     "output_type": "stream",
     "text": [
      "['a', 'Pad', 'b', 'c', 'd', 'e']\n",
      "['a', 'Pad', 'b', 'c', 'Pad', 'e']\n"
     ]
    }
   ],
   "source": [
    "# 1 (after 5) and 2\n",
    "seq1 = ['a', 'Pad', 'b', 'c', 'd', 'e']\n",
    "seq2 = ['a','b','c','e']\n",
    "seq1_aligned, seq2_aligned = force_align(seq1,seq2)\n",
    "print(seq1_aligned)\n",
    "print(seq2_aligned)"
   ]
  },
  {
   "cell_type": "markdown",
   "metadata": {},
   "source": [
    "## Pad n sequences. Example 5 sequences\n",
    "\n",
    "Big Idea: \n",
    "\n",
    "Force align seq1 and seq2 and get new seq1\n",
    "\n",
    "Force align seq1 and seq3 and get new seq1\n",
    "If there are new padding tokens in seq1:\n",
    "- insert in seq2 to re-align\n",
    "\n",
    "Force align seq1 and seq4 and get new seq1\n",
    "If there are new padding tokens in seq1:\n",
    "- insert in seq2 to re-align\n",
    "- insert in seq3 to re-align\n",
    "\n",
    "Force align seq1 and seq5 and get new seq1\n",
    "If there are new padding tokens in seq1:\n",
    "- insert in seq2 to re-align\n",
    "- insert in seq3 to re-align\n",
    "- insert in seq4 to re-align\n"
   ]
  },
  {
   "cell_type": "code",
   "execution_count": 55,
   "metadata": {},
   "outputs": [],
   "source": [
    "def force_align(seq1,seq2):\n",
    "    # Let seq1 be the \"GT\" sequence\n",
    "    # Get the lcs between the 2 sequences\n",
    "    lcs = LCS_return_seq(seq1, seq2)\n",
    "\n",
    "    seq1_aligned = []\n",
    "    seq2_aligned = []\n",
    "\n",
    "    i = 0\n",
    "    j = 0\n",
    "\n",
    "    padding = \"Pad\"\n",
    "    next_x = False\n",
    "\n",
    "    # Initialise a list to hold the indexes where \n",
    "    # the newly padding tokens are inserted\n",
    "    seq1_pad_indexes = []\n",
    "\n",
    "    \"\"\"\n",
    "    Big Idea: \n",
    "    - align the lcs tokens\n",
    "    - for the out-of-lcs token in one sequence, align it with a padding token in the other sequence \n",
    "      to denote token level noise\n",
    "    \"\"\"\n",
    "    for x in lcs:\n",
    "        next_x = False\n",
    "        while not next_x:\n",
    "\n",
    "            # Case 1: seq1[i]==seq2[j]==x\n",
    "            # Action\n",
    "            # - append seq[i] to seq1_aligned\n",
    "            # - append seq[j] to seq2_aligned\n",
    "            # - i+1\n",
    "            # - j+1\n",
    "            if seq1[i]==x and seq2[j]==x:\n",
    "                seq1_aligned.append(seq1[i])\n",
    "                seq2_aligned.append(seq2[j])\n",
    "                i+=1\n",
    "                j+=1\n",
    "                # Move to the next x in lcs\n",
    "                next_x = True\n",
    "\n",
    "            # Case 2: seq1[i]==x but seq[2]!=x\n",
    "            # Action\n",
    "            # - append padding to seq1_aligned to match the out-of-lcs token from seq2 \n",
    "            # - append out-of-lcs token seq2[j] to seq2_aligned\n",
    "            # - j+1 to simulate that the j-th token has been matched by the padding token in seq1\n",
    "            elif seq1[i]==x and seq2[j]!=x:\n",
    "                seq1_aligned.append(padding)\n",
    "                # Get the index of where this new padding was inserted\n",
    "                seq1_pad_indexes.append(len(seq1_aligned)-1)\n",
    "                seq2_aligned.append(seq2[j])\n",
    "                j+=1\n",
    "\n",
    "            # Case 3 and 4: seq1[i]!=x but seq[2]==x as well as seq1[i]!=x but seq[2]!=x\n",
    "            # Action\n",
    "            # - append out-of-lcs token seq1[i] to seq1_aligned\n",
    "            # - append padding to seq2_aligned to match the out-of-lcs token from seq1\n",
    "            # - i+1 to simulate that the i-th token has been matched by the padding token in seq2\n",
    "            # For the case where both don't match, we use the same logic. It'll result\n",
    "            # in matched padding to out-of-lcs tokens in both seqs\n",
    "            else:\n",
    "                seq1_aligned.append(seq1[i])\n",
    "                seq2_aligned.append(padding)\n",
    "                i+=1\n",
    "\n",
    "    # Once all the lcs tokens have been aligned\n",
    "    # for the out-of-lcs token in one sequence, align it with a padding token in the other sequence\n",
    "    while i < len(seq1):\n",
    "        seq1_aligned.append(seq1[i])\n",
    "        seq2_aligned.append(padding)\n",
    "        i+=1\n",
    "\n",
    "    while j < len(seq2):\n",
    "        seq1_aligned.append(padding)\n",
    "        seq2_aligned.append(seq2[j])\n",
    "        j+=1\n",
    "\n",
    "    return seq1_aligned, seq2_aligned, seq1_pad_indexes\n"
   ]
  },
  {
   "cell_type": "markdown",
   "metadata": {},
   "source": [
    "**Testing indexes**"
   ]
  },
  {
   "cell_type": "code",
   "execution_count": 56,
   "metadata": {},
   "outputs": [
    {
     "name": "stdout",
     "output_type": "stream",
     "text": [
      "['a', 'Pad', 'b', 'c', 'd', 'e']\n",
      "['a', 'z', 'b', 'c', 'Pad', 'e']\n",
      "[1]\n"
     ]
    }
   ],
   "source": [
    "seq1 = ['a','b','c','d','e']\n",
    "seq2 = ['a','z','b','c','e']\n",
    "seq1_aligned, seq2_aligned, seq1_pad_indexes = force_align(seq1,seq2)\n",
    "print(seq1_aligned)\n",
    "print(seq2_aligned)\n",
    "print(seq1_pad_indexes)"
   ]
  },
  {
   "cell_type": "code",
   "execution_count": 57,
   "metadata": {},
   "outputs": [
    {
     "name": "stdout",
     "output_type": "stream",
     "text": [
      "['a', 'j', 'Pad', 'Pad', 'c', 'd', 'e']\n",
      "['a', 'Pad', 'z', 'b', 'c', 'Pad', 'e']\n",
      "[2, 3]\n"
     ]
    }
   ],
   "source": [
    "seq1 = ['a','j','c','d','e']\n",
    "seq2 = ['a','z','b','c','e']\n",
    "seq1_aligned, seq2_aligned, seq1_pad_indexes = force_align(seq1,seq2)\n",
    "print(seq1_aligned)\n",
    "print(seq2_aligned)\n",
    "print(seq1_pad_indexes)"
   ]
  },
  {
   "cell_type": "code",
   "execution_count": 59,
   "metadata": {},
   "outputs": [
    {
     "name": "stdout",
     "output_type": "stream",
     "text": [
      "['a', 'Pad', 'b', 'c', 'Pad', 'e']\n",
      "['a', 'Pad', 'b', 'c', 'd', 'e']\n",
      "[1, 4]\n"
     ]
    }
   ],
   "source": [
    "seq1 = ['a','b','c','e']\n",
    "seq2 = ['a', 'Pad', 'b', 'c', 'd', 'e']\n",
    "seq1_aligned, seq2_aligned, seq1_pad_indexes = force_align(seq1,seq2)\n",
    "print(seq1_aligned)\n",
    "print(seq2_aligned)\n",
    "print(seq1_pad_indexes)"
   ]
  },
  {
   "cell_type": "markdown",
   "metadata": {},
   "source": [
    "Force align seq1 and seq2 and get new seq1\n",
    "\n",
    "Force align seq1 and seq3 and get new seq1\n",
    "If there are new padding tokens in seq1:\n",
    "- insert in seq2 to re-align\n",
    "\n",
    "Force align seq1 and seq4 and get new seq1\n",
    "If there are new padding tokens in seq1:\n",
    "- insert in seq2 to re-align\n",
    "- insert in seq3 to re-align\n",
    "\n",
    "Force align seq1 and seq5 and get new seq1\n",
    "If there are new padding tokens in seq1:\n",
    "- insert in seq2 to re-align\n",
    "- insert in seq3 to re-align\n",
    "- insert in seq4 to re-align"
   ]
  },
  {
   "cell_type": "code",
   "execution_count": 62,
   "metadata": {},
   "outputs": [],
   "source": [
    "seq1 = ['a', 'b', 'c', 'd', 'e']\n",
    "seq2 = ['a', 'b', 'c', 'e']\n",
    "seq3 = ['a', 'b', 'c', 'd', 'e']\n",
    "seq4 = ['a', 'b', 'c', 'e']\n",
    "seq5 = ['a', 'z', 'b', 'c', 'e']\n",
    "\n",
    "compare_seqs = [seq2,seq3,seq4,seq5]\n",
    "aligned_seqs = []\n",
    "\n",
    "for i in range(len(compare_seqs)):\n",
    "    # Force align sequence 1 and the i-th seq to compare\n",
    "    seq1_aligned, seq2_aligned, seq1_pad_indexes = force_align(seq1,compare_seqs[i])\n",
    "    # Append the i-th seq that has been aligned\n",
    "    aligned_seqs.append(seq2_aligned)\n",
    "    # If we have compared the i-th >= 1 sequence i.e. after seq2\n",
    "    if i >= 1:\n",
    "        # Insert the new padding tokens to re-align the previously aligned seqs\n",
    "        for j in range(i):\n",
    "            for new_pad_idx in seq1_pad_indexes:\n",
    "                aligned_seqs[j].insert(new_pad_idx,\"Pad\")\n",
    "\n",
    "    if i==len(compare_seqs)-1:\n",
    "        aligned_seqs.insert(0,seq1_aligned)"
   ]
  },
  {
   "cell_type": "code",
   "execution_count": 63,
   "metadata": {},
   "outputs": [
    {
     "data": {
      "text/plain": [
       "[['a', 'Pad', 'b', 'c', 'd', 'e'],\n",
       " ['a', 'Pad', 'b', 'c', 'Pad', 'e'],\n",
       " ['a', 'Pad', 'b', 'c', 'd', 'e'],\n",
       " ['a', 'Pad', 'b', 'c', 'Pad', 'e'],\n",
       " ['a', 'z', 'b', 'c', 'Pad', 'e']]"
      ]
     },
     "execution_count": 63,
     "metadata": {},
     "output_type": "execute_result"
    }
   ],
   "source": [
    "aligned_seqs"
   ]
  },
  {
   "cell_type": "markdown",
   "metadata": {},
   "source": [
    "Input:\n",
    "\n",
    "```\n",
    "1. a b c d e\n",
    "2. a b c e\n",
    "3. a b c d e\n",
    "4. a b c e\n",
    "5. a z b c e\n",
    "```\n",
    "\n",
    "Output:\n",
    "\n",
    "\n",
    "```\n",
    "1. a pad b c d   e\n",
    "2. a pad b c pad e\n",
    "3. a pad b c d   e\n",
    "4. a pad b c pad e\n",
    "5. a z   b c pad e\n",
    "```"
   ]
  },
  {
   "cell_type": "code",
   "execution_count": null,
   "metadata": {},
   "outputs": [],
   "source": []
  }
 ],
 "metadata": {
  "kernelspec": {
   "display_name": "myenv",
   "language": "python",
   "name": "python3"
  },
  "language_info": {
   "codemirror_mode": {
    "name": "ipython",
    "version": 3
   },
   "file_extension": ".py",
   "mimetype": "text/x-python",
   "name": "python",
   "nbconvert_exporter": "python",
   "pygments_lexer": "ipython3",
   "version": "3.12.4"
  }
 },
 "nbformat": 4,
 "nbformat_minor": 2
}
